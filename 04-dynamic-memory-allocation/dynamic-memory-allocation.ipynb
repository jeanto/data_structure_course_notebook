{
 "cells": [
  {
   "cell_type": "markdown",
   "metadata": {},
   "source": [
    "## Dynamic Memory Allocation\n",
    "\n",
    "[Aprenda Estrutura de Dados com C, Python e Jupyter Notebook](https://github.com/jeanto/data_structure_course_notebook) by [Jean Nunes](https://jeanto.github.io/jeannunes)   \n",
    "Code license: [GNU-GPL v3](https://www.gnu.org/licenses/gpl-3.0.en.html)\n",
    "\n",
    "---"
   ]
  },
  {
   "cell_type": "markdown",
   "metadata": {},
   "source": [
    "### 1. Alocação Dinâmica de Memória em C"
   ]
  },
  {
   "cell_type": "markdown",
   "metadata": {},
   "source": [
    "A alocação dinâmica de memória em C é o processo de reservar memória durante a execução do programa, em vez de determinar o tamanho da memória necessária em tempo de compilação. Isso permite que o programa gerencie a memória de forma mais flexível, adaptando-se às necessidades em tempo de execução.\n",
    "\n",
    "Em C, a alocação dinâmica de memória é feita usando funções da biblioteca padrão (`stdlib.h`), como:\n",
    "\n",
    "1. **`malloc`** (Memory Allocation): Aloca um bloco de memória de tamanho especificado e retorna um ponteiro para o início do bloco. A memória não é inicializada.\n",
    "   ```c\n",
    "   int *ptr = (int *)malloc(sizeof(int) * 10); // Aloca memória para 10 inteiros\n",
    "   ```\n",
    "\n",
    "2. **`calloc`** (Contiguous Allocation): Aloca memória para um número específico de elementos e inicializa todos os bytes com zero.\n",
    "   ```c\n",
    "   int *ptr = (int *)calloc(10, sizeof(int)); // Aloca e inicializa memória para 10 inteiros\n",
    "   ```\n",
    "\n",
    "3. **`realloc`** (Reallocation): Redimensiona um bloco de memória previamente alocado.\n",
    "   ```c\n",
    "   ptr = (int *)realloc(ptr, sizeof(int) * 20); // Redimensiona para 20 inteiros\n",
    "   ```\n",
    "\n",
    "4. **`free`**: Libera a memória alocada dinamicamente, devolvendo-a ao sistema.\n",
    "   ```c\n",
    "   free(ptr); // Libera a memória alocada\n",
    "   ```\n",
    "\n",
    "A alocação dinâmica é útil para criar estruturas de dados como listas, árvores e grafos, onde o tamanho pode variar durante a execução do programa."
   ]
  },
  {
   "cell_type": "markdown",
   "metadata": {},
   "source": [
    "#### Exemplo: Controle de Notas"
   ]
  },
  {
   "cell_type": "markdown",
   "metadata": {},
   "source": [
    "- Declare uma estrutura capaz de armazenar a matrícula e 3 notas para um dado aluno e, em seguida, calcule e armazene a média.​"
   ]
  },
  {
   "cell_type": "markdown",
   "metadata": {},
   "source": [
    "<!--![fluxograma_aumento](calcular_aumento.svg)-->\n",
    "\n",
    "![notas](../01-structs/notas.svg)"
   ]
  },
  {
   "cell_type": "markdown",
   "metadata": {},
   "source": [
    "### 1. Usando malloc() e calloc()"
   ]
  },
  {
   "cell_type": "markdown",
   "metadata": {},
   "source": [
    "#### Arquivo de Protótipos"
   ]
  },
  {
   "cell_type": "code",
   "execution_count": null,
   "metadata": {},
   "outputs": [],
   "source": [
    "%%file utils.h\n",
    "#ifndef UTILS_H\n",
    "#define UTILS_H\n",
    "\n",
    "#include <stdio.h>\n",
    "#include <stdlib.h>\n",
    "#include <string.h>\n",
    "\n",
    "#ifdef _WIN32\n",
    "    #define LIMPAR_TELA \"cls\"\n",
    "#else\n",
    "    #define LIMPAR_TELA \"clear\"\n",
    "#endif\n",
    "\n",
    "typedef struct {\n",
    "  int matricula;\n",
    "  float nota1, nota2, nota3;\n",
    "  float media;\n",
    "} Aluno;\n",
    "\n",
    "void limpar_buffer();\n",
    "void msg_erro(char *msg);\n",
    "// Função para calcular a média de um aluno\n",
    "void calcular_media(Aluno *aluno);\n",
    "\n",
    "#endif // UTILS_H"
   ]
  },
  {
   "cell_type": "markdown",
   "metadata": {},
   "source": [
    "#### Arquivo de funções"
   ]
  },
  {
   "cell_type": "code",
   "execution_count": null,
   "metadata": {},
   "outputs": [],
   "source": [
    "%%file utils.c\n",
    "#include \"utils.h\"\n",
    "\n",
    "void limpar_buffer(){\n",
    "    char c;\n",
    "    while((c = getchar()) != '\\n' && c != EOF);\n",
    "}\n",
    "\n",
    "void msg_erro(char *msg){\n",
    "    limpar_buffer();\n",
    "    system(LIMPAR_TELA);\n",
    "    printf(\"\\n----------------Erro------------------------------\\n\");\n",
    "    printf(\"%s\", msg);\n",
    "    printf(\"----------------------------------------------------\\n\");\n",
    "    printf(\"\\nAperte <ENTER> para voltar ao menu principal.\");\n",
    "    getchar();\n",
    "}\n",
    "\n",
    "void calcular_media(Aluno *aluno) {\n",
    "    aluno->media = (aluno->nota1 + aluno->nota2 + aluno->nota3) / 3.0;\n",
    "}"
   ]
  },
  {
   "cell_type": "markdown",
   "metadata": {},
   "source": [
    "#### Arquivo principal"
   ]
  },
  {
   "cell_type": "code",
   "execution_count": null,
   "metadata": {},
   "outputs": [],
   "source": [
    "%%file main.c\n",
    "#include \"utils.c\"\n",
    "\n",
    "int main() {\n",
    "    \n",
    "    int opcao = -1;\n",
    "    \n",
    "    printf(\"\\n----------------𝐎𝐛𝐣𝐞𝐭𝐢𝐯𝐨------------------------------\\n\");\n",
    "    printf(\"O objetivo deste programa é armazenar \\na matrícula e 3 notas para um dado aluno e, \\nem seguida, calcular e armazenar a média.\\n\");\n",
    "\n",
    "    do{\n",
    "        printf(\"\\n----------------𝐄𝐧𝐭𝐫𝐚𝐝𝐚------------------------------\\n\");\n",
    "        printf(\"1 - Calcular média. \\n\");\n",
    "        printf(\"0 - Sair. \\n\");\n",
    "        printf(\"----------------------------------------------------\\n\");\n",
    "        printf(\"Digite a opção desejada: \");\n",
    "        scanf(\"%d\", &opcao);\n",
    "        \n",
    "        if(opcao == 1){\n",
    "            //struct aluno aluno1;\n",
    "            // Alocação dinâmica para um aluno usando malloc\n",
    "            Aluno *aluno1 = (Aluno *)malloc(sizeof(Aluno));\n",
    "            \n",
    "            // Alocação dinâmica para um aluno usando calloc\n",
    "            // Aluno *aluno1 = (Aluno *)calloc(1, sizeof(Aluno));\n",
    "            if (aluno1 == NULL) {\n",
    "                printf(\"Erro ao alocar memória.\\n\");\n",
    "                return 1;\n",
    "            }\n",
    "            \n",
    "            printf(\"Digite a matrícula do aluno: \");\n",
    "            int valida_matricula = scanf(\"%d\", &aluno1->matricula);\n",
    "            printf(\"Digite a primeira nota do aluno: \");\n",
    "            int valida_nota1 = scanf(\"%f\", &aluno1->nota1);\n",
    "            printf(\"Digite a segunda nota do aluno: \");\n",
    "            int valida_nota2 = scanf(\"%f\", &aluno1->nota2);\n",
    "            printf(\"Digite a terceira nota do aluno: \");\n",
    "            int valida_nota3 = scanf(\"%f\", &aluno1->nota3);\n",
    "            \n",
    "            if (valida_matricula == 1 && valida_nota1 == 1 && valida_nota2 == 1 && valida_nota3 == 1){\n",
    "                if (aluno1->matricula >= 0 && aluno1->nota1 >= 0 && aluno1->nota1 <= 10 && aluno1->nota2 >= 0 && aluno1->nota2 <= 10 && aluno1->nota3 >= 0 && aluno1->nota3 <= 10){\n",
    "                    system(LIMPAR_TELA);\n",
    "\n",
    "                    // Calcula a média\n",
    "                    calcular_media(aluno1);\n",
    "                    \n",
    "                    // Criar função para imprimir os dados do aluno (relatório)\t\n",
    "                    printf(\"----------------𝐒𝐚𝐢𝐝𝐚------------------------------\\n\");\n",
    "                    printf(\"Matricula: \\t %d\\n\", aluno1->matricula);\n",
    "                    printf(\"Nota 1: \\t %.2f\\n\", aluno1->nota1);\n",
    "                    printf(\"Nota 2: \\t %.2f\\n\", aluno1->nota2);\n",
    "                    printf(\"Nota 3: \\t %.2f\\n\", aluno1->nota3);\n",
    "                    printf(\"Media:  \\t %.2f\\n\", aluno1->media);\n",
    "                    printf(\"----------------------------------------------------\\n\");\n",
    "                    \n",
    "                    free(aluno1); // Libera a memória alocada\n",
    "                    \n",
    "                    opcao = 0;\n",
    "                } else {\n",
    "                    msg_erro(\"Valor inválido. As notas devem ser entre 0 e 10. \\n\");\n",
    "                }\n",
    "            } else {\n",
    "                msg_erro(\"Valor inválido. Os valores precisam ser números.\\n\");\n",
    "            }\n",
    "        }\n",
    "        else if(opcao == 0){\n",
    "            system(LIMPAR_TELA);\n",
    "            printf(\"Programa finalizado.\\n\");\n",
    "        }        \n",
    "        else {\n",
    "            msg_erro(\"Opção inválida. \\n\");\n",
    "        }\n",
    "    } while(opcao != 0);\n",
    "\n",
    "    return 0;\n",
    "}"
   ]
  },
  {
   "cell_type": "code",
   "execution_count": null,
   "metadata": {},
   "outputs": [],
   "source": [
    "%%bash\n",
    "gcc -o programa main.c"
   ]
  },
  {
   "cell_type": "markdown",
   "metadata": {},
   "source": [
    "### 2. Usando realloc()"
   ]
  },
  {
   "cell_type": "markdown",
   "metadata": {},
   "source": [
    "Programa atualizado para usar `realloc()` para alocar dinamicamente e redimensionar a memória conforme necessário:"
   ]
  },
  {
   "cell_type": "markdown",
   "metadata": {},
   "source": [
    "#### Arquivo de Protótipos"
   ]
  },
  {
   "cell_type": "code",
   "execution_count": null,
   "metadata": {},
   "outputs": [],
   "source": [
    "%%file utils.h\n",
    "#ifndef UTILS_H\n",
    "#define UTILS_H\n",
    "\n",
    "#include <stdio.h>\n",
    "#include <stdlib.h>\n",
    "#include <string.h>\n",
    "\n",
    "#ifdef _WIN32\n",
    "    #define LIMPAR_TELA \"cls\"\n",
    "#else\n",
    "    #define LIMPAR_TELA \"clear\"\n",
    "#endif\n",
    "\n",
    "typedef struct {\n",
    "  int matricula;\n",
    "  float nota1, nota2, nota3;\n",
    "  float media;\n",
    "} Aluno;\n",
    "\n",
    "void limpar_buffer();\n",
    "void msg_erro(char *msg);\n",
    "\n",
    "// Função para alocar memória para um aluno\n",
    "void alocar_memoria(Aluno **alunos, int *num_alunos);\n",
    "// Função para calcular a média de um aluno\n",
    "void calcular_media(Aluno *aluno);\n",
    "\n",
    "#endif // UTILS_H"
   ]
  },
  {
   "cell_type": "markdown",
   "metadata": {},
   "source": [
    "#### Arquivo de funções"
   ]
  },
  {
   "cell_type": "code",
   "execution_count": null,
   "metadata": {},
   "outputs": [],
   "source": [
    "%%file utils.c\n",
    "#include \"utils.h\"\n",
    "\n",
    "void limpar_buffer(){\n",
    "    char c;\n",
    "    while((c = getchar()) != '\\n' && c != EOF);\n",
    "}\n",
    "\n",
    "void msg_erro(char *msg){\n",
    "    limpar_buffer();\n",
    "    system(LIMPAR_TELA);\n",
    "    printf(\"\\n----------------Erro------------------------------\\n\");\n",
    "    printf(\"%s\", msg);\n",
    "    printf(\"----------------------------------------------------\\n\");\n",
    "    printf(\"\\nAperte <ENTER> para voltar ao menu principal.\");\n",
    "    getchar();\n",
    "}\n",
    "\n",
    "void alocar_memoria(Aluno **alunos, int *num_alunos) {\n",
    "    (*num_alunos)++;\n",
    "    *alunos = (Aluno *)realloc(*alunos, (*num_alunos) * sizeof(Aluno));\n",
    "    if (*alunos == NULL) {\n",
    "        printf(\"Erro ao alocar memória.\\n\");\n",
    "        exit(1);\n",
    "    }\n",
    "}\n",
    "\n",
    "void calcular_media(Aluno *aluno) {\n",
    "    aluno->media = (aluno->nota1 + aluno->nota2 + aluno->nota3) / 3.0;\n",
    "}"
   ]
  },
  {
   "cell_type": "code",
   "execution_count": 8,
   "metadata": {},
   "outputs": [
    {
     "name": "stdout",
     "output_type": "stream",
     "text": [
      "Overwriting main.c\n"
     ]
    }
   ],
   "source": [
    "%%file main.c\n",
    "#include \"utils.c\"\n",
    "\n",
    "int main() {\n",
    "    \n",
    "    Aluno *alunos = NULL;\n",
    "    int num_alunos = 0;\n",
    "    \n",
    "    int opcao = -1;\n",
    "    \n",
    "    printf(\"\\n----------------𝐎𝐛𝐣𝐞𝐭𝐢𝐯𝐨------------------------------\\n\");\n",
    "    printf(\"O objetivo deste programa é armazenar \\na matrícula e 3 notas para um dado aluno e, \\nem seguida, calcular e armazenar a média.\\n\");\n",
    "\n",
    "    do{\n",
    "        printf(\"\\n----------------𝐄𝐧𝐭𝐫𝐚𝐝𝐚------------------------------\\n\");\n",
    "        printf(\"1 - Calcular média. \\n\");\n",
    "        printf(\"0 - Sair. \\n\");\n",
    "        printf(\"----------------------------------------------------\\n\");\n",
    "        printf(\"Digite a opção desejada: \");\n",
    "        scanf(\"%d\", &opcao);\n",
    "        \n",
    "        if(opcao == 1){\n",
    "            \n",
    "            for (int i = 0; i < 2; i++) {\n",
    "                \n",
    "                // Aloca memória usando realloc()\n",
    "                alocar_memoria(&alunos, &num_alunos);\n",
    "                Aluno *aluno1 = &alunos[num_alunos - 1];\n",
    "                            \n",
    "                printf(\"Digite a matrícula do aluno: \");\n",
    "                int valida_matricula = scanf(\"%d\", &aluno1->matricula);\n",
    "                printf(\"Digite a primeira nota do aluno: \");\n",
    "                int valida_nota1 = scanf(\"%f\", &aluno1->nota1);\n",
    "                printf(\"Digite a segunda nota do aluno: \");\n",
    "                int valida_nota2 = scanf(\"%f\", &aluno1->nota2);\n",
    "                printf(\"Digite a terceira nota do aluno: \");\n",
    "                int valida_nota3 = scanf(\"%f\", &aluno1->nota3);\n",
    "                \n",
    "                if (valida_matricula == 1 && valida_nota1 == 1 && valida_nota2 == 1 && valida_nota3 == 1){\n",
    "                    if (aluno1->matricula >= 0 && aluno1->nota1 >= 0 && aluno1->nota1 <= 10 && aluno1->nota2 >= 0 && aluno1->nota2 <= 10 && aluno1->nota3 >= 0 && aluno1->nota3 <= 10){\n",
    "                        system(LIMPAR_TELA);\n",
    "\n",
    "                        // Calcula a média\n",
    "                        calcular_media(aluno1);\n",
    "                        \n",
    "                        // Criar função para imprimir os dados do aluno (relatório)\t\n",
    "                        printf(\"----------------𝐒𝐚𝐢𝐝𝐚------------------------------\\n\");\n",
    "                        printf(\"Matricula: \\t %d\\n\", aluno1->matricula);\n",
    "                        printf(\"Nota 1: \\t %.2f\\n\", aluno1->nota1);\n",
    "                        printf(\"Nota 2: \\t %.2f\\n\", aluno1->nota2);\n",
    "                        printf(\"Nota 3: \\t %.2f\\n\", aluno1->nota3);\n",
    "                        printf(\"Media:  \\t %.2f\\n\", aluno1->media);\n",
    "                        printf(\"----------------------------------------------------\\n\");\n",
    "                        \n",
    "                        num_alunos++;\n",
    "                        \n",
    "                        opcao = 0;\n",
    "                    } else {\n",
    "                        msg_erro(\"Valor inválido. As notas devem ser entre 0 e 10. \\n\");\n",
    "                    }\n",
    "                } else {\n",
    "                    msg_erro(\"Valor inválido. Os valores precisam ser números.\\n\");\n",
    "                }\n",
    "            }\n",
    "        }\n",
    "        else if(opcao == 0){\n",
    "            system(LIMPAR_TELA);\n",
    "            printf(\"Programa finalizado.\\n\");\n",
    "            free(alunos); // Libera a memória alocada\n",
    "        }        \n",
    "        else {\n",
    "            msg_erro(\"Opção inválida. \\n\");\n",
    "        }\n",
    "    } while(opcao != 0);\n",
    "\n",
    "    return 0;\n",
    "}"
   ]
  },
  {
   "cell_type": "code",
   "execution_count": null,
   "metadata": {},
   "outputs": [],
   "source": [
    "%%bash\n",
    "gcc -o programa main.c"
   ]
  }
 ],
 "metadata": {
  "kernelspec": {
   "display_name": "Python 3",
   "language": "python",
   "name": "python3"
  },
  "language_info": {
   "codemirror_mode": {
    "name": "ipython",
    "version": 3
   },
   "file_extension": ".py",
   "mimetype": "text/x-python",
   "name": "python",
   "nbconvert_exporter": "python",
   "pygments_lexer": "ipython3",
   "version": "3.12.3"
  }
 },
 "nbformat": 4,
 "nbformat_minor": 2
}
