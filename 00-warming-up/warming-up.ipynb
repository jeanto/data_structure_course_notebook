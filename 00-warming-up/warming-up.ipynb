{
 "cells": [
  {
   "cell_type": "markdown",
   "metadata": {},
   "source": [
    "### Lógica de Programação\n",
    "---\n",
    "\n",
    "[Aprenda Estrutura de Dados com C, Python e Jupyter Notebook](https://github.com/jeanto/data_structure_course_notebook) by [Jean Nunes](https://jeanto.github.io/jeannunes)   \n",
    "Code license: [GNU-GPL v3](https://www.gnu.org/licenses/gpl-3.0.en.html)"
   ]
  },
  {
   "cell_type": "markdown",
   "metadata": {},
   "source": [
    "1. Entrada e saída "
   ]
  },
  {
   "cell_type": "markdown",
   "metadata": {},
   "source": [
    "---\n",
    "- I. Faça uma narração/fluxo que leia um valor em real e a cotação do dólar. Em seguida, imprima o valor correspondente em dólares."
   ]
  },
  {
   "cell_type": "markdown",
   "metadata": {},
   "source": [
    "<!-- ![fluxograma_conversao](conversao.svg) -->\n",
    "\n",
    "![fluxograma_conversao](conversao.svg)"
   ]
  },
  {
   "cell_type": "code",
   "execution_count": null,
   "metadata": {},
   "outputs": [
    {
     "name": "stdout",
     "output_type": "stream",
     "text": [
      "Overwriting conversao.c\n"
     ]
    }
   ],
   "source": [
    "%%file conversao.c\n",
    "#include <stdio.h>\n",
    "#include <stdlib.h>\n",
    "\n",
    "int main(){\n",
    "\n",
    "    int opcao;\n",
    "    float valor_real, cotacao_dolar, valor_dolar;\n",
    "    \n",
    "    printf(\"------------OBJETIVO-------------------\\n\");\n",
    "    printf(\"Este algoritmo tem como objetivo converter um valor monetário de reais (BRL) para dólares (USD). \\n\");\n",
    "    \n",
    "    do{\n",
    "        printf(\"\\n--------- Menu ----------\\n\");\n",
    "        printf(\"1 - Conversão de real para dólar\\n\");\n",
    "        printf(\"0 - Sair do programa\\n\");\n",
    "        printf(\"------------------------------\\n\");\n",
    "        printf(\"Digite a opção desejada: \");\n",
    "        scanf(\"%d\", &opcao);\n",
    "        \n",
    "        if(opcao == 1){\n",
    "            printf(\"Digite o valor em reais (ATENÇÃO: O valor informado deve ser um número (Ex.: 500; 923.43)): \");\n",
    "            int validar_valor_real = scanf(\"%f\", &valor_real);\n",
    "            \n",
    "            if (validar_valor_real == 1){\n",
    "                printf(\"Digite a cotação do dólar: (ATENÇÃO: O valor informado deve ser um número positivo (Ex.: 5.50).)\");\n",
    "                int validar_cotacao_dolar = scanf(\"%f\", &cotacao_dolar);\n",
    "                \n",
    "                if (validar_cotacao_dolar == 1 && cotacao_dolar > 0){\n",
    "                    valor_dolar = valor_real / cotacao_dolar;\n",
    "                    printf(\"------------------------------\\n\");\n",
    "                    printf(\"Valor em real: %.2f\\n\", valor_real);\n",
    "                    printf(\"Cotação do dólar: %.2f\\n\", cotacao_dolar);\n",
    "                    printf(\"O valor em dólares é: %.2f\\n\", valor_dolar);\n",
    "                    printf(\"------------------------------\\n\");\n",
    "                    break;\n",
    "                }\n",
    "                else{\n",
    "                    printf(\"A cotacao informada não é válida. Aperte <ENTER> para voltar ao menu inicial.\\n\");   \n",
    "                }\n",
    "            }\n",
    "            else{\n",
    "                printf(\"O valor informado não é válido. Aperte <ENTER> para voltar ao menu inicial.\\n\");\n",
    "            }\n",
    "        }\n",
    "        else if(opcao == 0){\n",
    "            printf(\"Programa finalizado.\\n\");\n",
    "        }\n",
    "        else{\n",
    "            printf(\"A opcao informada não é válida. Aperte <ENTER> para voltar ao menu inicial.\\n\");\n",
    "        }\n",
    "    }while(opcao != 0);\n",
    "    \n",
    "    return 0;\n",
    "}"
   ]
  },
  {
   "cell_type": "code",
   "execution_count": 6,
   "metadata": {},
   "outputs": [],
   "source": [
    "%%bash\n",
    "gcc conversao.c -o conversao"
   ]
  },
  {
   "cell_type": "markdown",
   "metadata": {},
   "source": [
    "### Versão com parâmetros \"tratados\"\n",
    "---"
   ]
  },
  {
   "cell_type": "markdown",
   "metadata": {},
   "source": [
    "- II. Faça uma narração/fluxo que leia o salário de um funcionário. Calcule e imprima o valor do novo salário, sabendo que ele recebeu um aumento de 25%."
   ]
  },
  {
   "cell_type": "markdown",
   "metadata": {},
   "source": [
    "<!--![fluxograma_aumento](calcular_aumento.svg)-->\n",
    "\n",
    "![fluxograma_aumento](calcular_aumento.svg)"
   ]
  },
  {
   "cell_type": "code",
   "execution_count": 7,
   "metadata": {},
   "outputs": [
    {
     "name": "stdout",
     "output_type": "stream",
     "text": [
      "Writing calcular_novo_salario.c\n"
     ]
    }
   ],
   "source": [
    "%%file calcular_novo_salario.c\n",
    "#include <stdio.h>\n",
    "#include <stdlib.h>"
   ]
  },
  {
   "cell_type": "code",
   "execution_count": null,
   "metadata": {},
   "outputs": [],
   "source": [
    "%%bash\n",
    "gcc calcular_novo_salario.c -o calcular_novo_salario"
   ]
  }
 ],
 "metadata": {
  "kernelspec": {
   "display_name": "Python 3",
   "language": "python",
   "name": "python3"
  },
  "language_info": {
   "codemirror_mode": {
    "name": "ipython",
    "version": 3
   },
   "file_extension": ".py",
   "mimetype": "text/x-python",
   "name": "python",
   "nbconvert_exporter": "python",
   "pygments_lexer": "ipython3",
   "version": "3.12.3"
  }
 },
 "nbformat": 4,
 "nbformat_minor": 2
}
