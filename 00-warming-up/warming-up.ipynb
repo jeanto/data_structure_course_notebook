{
 "cells": [
  {
   "cell_type": "markdown",
   "metadata": {},
   "source": [
    "### Lógica de Programação\n",
    "---\n",
    "\n",
    "[Aprenda Estrutura de Dados com C, Python e Jupyter Notebook](https://github.com/jeanto/data_structure_course_notebook) by [Jean Nunes](https://jeanto.github.io/jeannunes)   \n",
    "Code license: [GNU-GPL v3](https://www.gnu.org/licenses/gpl-3.0.en.html)"
   ]
  },
  {
   "cell_type": "markdown",
   "metadata": {},
   "source": [
    "1. Entrada e saída "
   ]
  },
  {
   "cell_type": "markdown",
   "metadata": {},
   "source": [
    "---\n",
    "- I. Faça uma narração/fluxo que leia um valor em real e a cotação do dólar. Em seguida, imprima o valor correspondente em dólares."
   ]
  },
  {
   "cell_type": "markdown",
   "metadata": {},
   "source": [
    "![fluxograma_conversao](conversao.svg)"
   ]
  },
  {
   "cell_type": "code",
   "execution_count": null,
   "metadata": {},
   "outputs": [
    {
     "name": "stdout",
     "output_type": "stream",
     "text": [
      "Overwriting conversao.c\n"
     ]
    }
   ],
   "source": [
    "%%file conversao.c\n",
    "#include <stdio.h>\n",
    "#include <stdlib.h>\n"
   ]
  },
  {
   "cell_type": "code",
   "execution_count": 58,
   "metadata": {},
   "outputs": [],
   "source": [
    "%%bash\n",
    "gcc conversao.c -o conversao"
   ]
  },
  {
   "cell_type": "markdown",
   "metadata": {},
   "source": [
    "### Versão com parâmetros \"tratados\"\n",
    "---"
   ]
  },
  {
   "cell_type": "code",
   "execution_count": 62,
   "metadata": {},
   "outputs": [],
   "source": [
    "import random\n",
    "import time\n",
    "\n",
    "def criar_arquivo_parms(nome_arquivo, linhas, seed=0):\n",
    "    random.seed(seed)\n",
    "    with open(nome_arquivo, 'w') as arquivo:\n",
    "        for i in range(linhas):\n",
    "            valor_real = round(random.uniform(1, 1000), 2)\n",
    "            cotacao_dolar = round(random.uniform(1, 10), 2)\n",
    "            arquivo.write(f'{i} {valor_real} {cotacao_dolar}\\n')\n",
    "        \n",
    "criar_arquivo_parms('params.txt', 100, int(time.time()))"
   ]
  },
  {
   "cell_type": "code",
   "execution_count": 61,
   "metadata": {},
   "outputs": [
    {
     "name": "stdout",
     "output_type": "stream",
     "text": [
      "Overwriting conversao_params.c\n"
     ]
    }
   ],
   "source": [
    "%%file conversao_params.c\n",
    "#include <stdio.h>\n",
    "#include <stdlib.h>\n",
    "\n",
    "int main(int argc, char *argv[]) {\n",
    "    \n",
    "    float valor_real, cotacao_dolar, valor_dolar;\n",
    "    int i;\n",
    "  \n",
    "    if (argc > 1){\n",
    "        i = atoi(argv[1]);\n",
    "        valor_real = atof(argv[2]);\n",
    "        cotacao_dolar = atof(argv[3]);\n",
    "        valor_dolar = valor_real / cotacao_dolar;\n",
    "        printf(\"i: [%d]; Valor em reais: R$ %.2f; Cotação: R$ %.2f; Valor em dólar: $ %.2f\\n\", i, valor_real, cotacao_dolar, valor_dolar);        \n",
    "    }    \n",
    " \n",
    "    return 0;\n",
    "}    "
   ]
  },
  {
   "cell_type": "code",
   "execution_count": 54,
   "metadata": {},
   "outputs": [],
   "source": [
    "%%bash\n",
    "gcc -o conversao_params conversao_params.c"
   ]
  },
  {
   "cell_type": "code",
   "execution_count": 63,
   "metadata": {},
   "outputs": [],
   "source": [
    "%%bash\n",
    "echo \"\" > resultado.txt\n",
    "cat params.txt | while read linha; \n",
    "do \n",
    "    ./conversao_params $linha >> resultado.txt\n",
    "done"
   ]
  },
  {
   "cell_type": "markdown",
   "metadata": {},
   "source": [
    "---\n",
    "- II. Faça uma narração/fluxo que leia o salário de um funcionário. Calcule e imprima o valor do novo salário, sabendo que ele recebeu um aumento de 25%."
   ]
  },
  {
   "cell_type": "markdown",
   "metadata": {},
   "source": [
    "![fluxograma_aumento](calcular_aumento.svg)"
   ]
  },
  {
   "cell_type": "code",
   "execution_count": null,
   "metadata": {},
   "outputs": [],
   "source": [
    "%%file calcular_novo_salario.c\n",
    "#include <stdio.h>\n",
    "#include <stdlib.h>"
   ]
  },
  {
   "cell_type": "code",
   "execution_count": null,
   "metadata": {},
   "outputs": [],
   "source": [
    "%%bash\n",
    "gcc calcular_novo_salario.c -o calcular_novo_salario"
   ]
  }
 ],
 "metadata": {
  "kernelspec": {
   "display_name": "Python 3",
   "language": "python",
   "name": "python3"
  },
  "language_info": {
   "codemirror_mode": {
    "name": "ipython",
    "version": 3
   },
   "file_extension": ".py",
   "mimetype": "text/x-python",
   "name": "python",
   "nbconvert_exporter": "python",
   "pygments_lexer": "ipython3",
   "version": "3.12.3"
  }
 },
 "nbformat": 4,
 "nbformat_minor": 2
}
