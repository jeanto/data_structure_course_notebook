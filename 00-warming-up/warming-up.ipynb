{
 "cells": [
  {
   "cell_type": "markdown",
   "metadata": {},
   "source": [
    "### Lógica de Programação\n",
    "\n",
    "[Aprenda Estrutura de Dados com C, Python e Jupyter Notebook](https://github.com/jeanto/data_structure_course_notebook) by [Jean Nunes](https://jeanto.github.io/jeannunes)   \n",
    "Code license: [GNU-GPL v3](https://www.gnu.org/licenses/gpl-3.0.en.html)\n",
    "\n",
    "---"
   ]
  },
  {
   "cell_type": "markdown",
   "metadata": {},
   "source": [
    "1. Entrada e saída "
   ]
  },
  {
   "cell_type": "markdown",
   "metadata": {},
   "source": [
    "- I. Faça uma narração/fluxo que leia um valor em real e a cotação do dólar. Em seguida, imprima o valor correspondente em dólares."
   ]
  },
  {
   "cell_type": "markdown",
   "metadata": {},
   "source": [
    "<!-- ![fluxograma_conversao](conversao.svg) -->\n",
    "\n",
    "![fluxograma_conversao](conversao.svg)"
   ]
  },
  {
   "cell_type": "code",
   "execution_count": 1,
   "metadata": {},
   "outputs": [
    {
     "name": "stdout",
     "output_type": "stream",
     "text": [
      "Overwriting conversao.c\n"
     ]
    }
   ],
   "source": [
    "%%file conversao.c\n",
    "#include <stdio.h>\n",
    "#include <stdlib.h>\n",
    "\n",
    "/*\n",
    "    Em C, as diretivas de pré-processamento são comandos especiais \n",
    "    que o pré-processador interpreta antes da compilação do código. \n",
    "    Elas são identificadas pelo símbolo \"#\" no início da linha. \n",
    "    O pré-processador é um programa que examina o código-fonte e \n",
    "    realiza transformações textuais antes que o compilador gere o \n",
    "    código executável.\n",
    "*/\n",
    "\n",
    "#ifdef _WIN32\n",
    "    #define LIMPAR_TELA \"cls\"\n",
    "#else\n",
    "    #define LIMPAR_TELA \"clear\"\n",
    "#endif\n",
    "\n",
    "/*\n",
    "    O loop continua a ler e descartar caracteres até encontrar \n",
    "    o marcador de fim de arquivo (EOF) ou um caractere de \n",
    "    nova linha ('\\n'). O marcador EOF indica que não há mais \n",
    "    caracteres para ler, enquanto o caractere de nova linha \n",
    "    normalmente significa o fim de uma linha de entrada.\n",
    "*/\n",
    "void limpar_buffer(){\n",
    "    char c;\n",
    "    while((c = getchar()) != '\\n' && c != EOF);\n",
    "}\n",
    "\n",
    "int main(){\n",
    "\n",
    "    int opcao = -1;\n",
    "    float valor_real, cotacao_dolar, valor_dolar;\n",
    "    \n",
    "    printf(\"------------OBJETIVO-------------------\\n\");\n",
    "    printf(\"Este algoritmo tem como objetivo converter um valor monetário de reais (BRL) para dólares (USD). \\n\");\n",
    "    \n",
    "    do{\n",
    "        printf(\"\\n--------- Menu ----------\\n\");\n",
    "        printf(\"1 - Conversão de real para dólar\\n\");\n",
    "        printf(\"0 - Sair do programa\\n\");\n",
    "        printf(\"---------------------------\\n\");\n",
    "        printf(\"Digite a opção desejada: \");\n",
    "        int validar_valor_opcao = scanf(\"%d\", &opcao);\n",
    "        \n",
    "        if (validar_valor_opcao == 1){\n",
    "            \n",
    "            if(opcao == 1){\n",
    "                printf(\"Digite o valor em reais (ATENÇÃO: O valor informado deve ser um número (Ex.: 500; 923.43)): \");\n",
    "                int validar_valor_real = scanf(\"%f\", &valor_real);\n",
    "                \n",
    "                if (validar_valor_real == 1){\n",
    "                    printf(\"Digite a cotação do dólar: (ATENÇÃO: O valor informado deve ser um número positivo (Ex.: 5.50).): \");\n",
    "                    int validar_cotacao_dolar = scanf(\"%f\", &cotacao_dolar);\n",
    "                    \n",
    "                    if (validar_cotacao_dolar == 1 && cotacao_dolar > 0){\n",
    "                        valor_dolar = valor_real / cotacao_dolar;\n",
    "                        printf(\"------------------------------\\n\");\n",
    "                        printf(\"Valor em real: %.2f\\n\", valor_real);\n",
    "                        printf(\"Cotação do dólar: %.2f\\n\", cotacao_dolar);\n",
    "                        printf(\"O valor em dólares é: %.2f\\n\", valor_dolar);\n",
    "                        printf(\"------------------------------\\n\");\n",
    "                        //break;\n",
    "                        opcao = 0;\n",
    "                    }\n",
    "                    else{\n",
    "                        limpar_buffer();\n",
    "                        system(LIMPAR_TELA);\n",
    "                        printf(\"A cotacao informada não é válida.\\nAperte <ENTER> para voltar ao menu inicial.\\n\");   \n",
    "                        getchar();\n",
    "                    }\n",
    "                }\n",
    "                else{\n",
    "                    limpar_buffer();\n",
    "                    system(LIMPAR_TELA);\n",
    "                    printf(\"O valor informado não é válido.\\nAperte <ENTER> para voltar ao menu inicial.\\n\");\n",
    "                    getchar();\n",
    "                }\n",
    "            }\n",
    "            else if(opcao == 0){\n",
    "                system(LIMPAR_TELA);\n",
    "                printf(\"Programa finalizado.\\n\");\n",
    "            }\n",
    "            else{\n",
    "                limpar_buffer();\n",
    "                system(LIMPAR_TELA);\n",
    "                printf(\"A opcao informada não é válida.\\nAperte <ENTER> para voltar ao menu inicial.\");\n",
    "                getchar();\n",
    "            }\n",
    "        }\n",
    "        else{\n",
    "            limpar_buffer(); // Limpa o buffer para não entrar em loop\n",
    "            system(LIMPAR_TELA);\n",
    "            printf(\"A opcao informada não é válida.\\nAperte <ENTER> para voltar ao menu inicial.\");\n",
    "            getchar();\n",
    "        }\n",
    "    } while(opcao != 0);\n",
    "    \n",
    "    return 0;\n",
    "}"
   ]
  },
  {
   "cell_type": "code",
   "execution_count": 1,
   "metadata": {},
   "outputs": [],
   "source": [
    "%%bash\n",
    "gcc conversao.c -o conversao"
   ]
  },
  {
   "cell_type": "markdown",
   "metadata": {},
   "source": [
    "- II. Faça uma narração/fluxo que leia o salário de um funcionário. Calcule e imprima o valor do novo salário, sabendo que ele recebeu um aumento de 25%."
   ]
  },
  {
   "cell_type": "markdown",
   "metadata": {},
   "source": [
    "<!--![fluxograma_aumento](calcular_aumento.svg)-->\n",
    "\n",
    "![fluxograma_aumento](calcular_aumento.svg)"
   ]
  },
  {
   "cell_type": "code",
   "execution_count": 37,
   "metadata": {},
   "outputs": [
    {
     "name": "stdout",
     "output_type": "stream",
     "text": [
      "Overwriting calcular_novo_salario.c\n"
     ]
    }
   ],
   "source": [
    "%%file calcular_novo_salario.c\n",
    "#include <stdio.h>\n",
    "#include <stdlib.h>\n",
    "\n",
    "#ifdef _WIN32\n",
    "    #define LIMPAR_TELA \"cls\"\n",
    "#else\n",
    "    #define LIMPAR_TELA \"clear\"\n",
    "#endif\n",
    "\n",
    "void limpar_buffer(){\n",
    "    char c;\n",
    "    while((c = getchar()) != '\\n' && c != EOF);\n",
    "}\n",
    "\n",
    "int main() {\n",
    "    \n",
    "    int opcao = -1;\n",
    "    float salario_atual, novo_salario;\n",
    "    \n",
    "    printf(\"\\n----------------𝐎𝐛𝐣𝐞𝐭𝐢𝐯𝐨------------------------------\");\n",
    "    printf(\"\\nEste algoritmo tem como objetivo calcular e \\nimprimir o valor do novo salário, sabendo \\nque o funcionário recebeu um aumento de 25%%. \\n\");\n",
    "    \n",
    "    do{\n",
    "        printf(\"\\n----------------𝐄𝐧𝐭𝐫𝐚𝐝𝐚------------------------------\\n\");\n",
    "        printf(\"1 - Calcular aumento de salário. \\n\");\n",
    "        printf(\"0 - Sair. \\n\");\n",
    "        printf(\"----------------------------------------------------\\n\");\n",
    "        printf(\"Digite a opção desejada: \");\n",
    "        scanf(\"%d\", &opcao);\n",
    "        \n",
    "        if(opcao == 1){\n",
    "            float salario_minimo = 1509.00;\n",
    "            printf(\"Digite o salário do funcionário (ATENÇÃO: O valor informado deve ser um número maior que %.2f): \", salario_minimo);\n",
    "            int valida_salario = scanf(\"%f\", &salario_atual);\n",
    "            \n",
    "            if(valida_salario == 1 && salario_atual > salario_minimo){\n",
    "                novo_salario = salario_atual * 1.25;\n",
    "                printf(\"----------------𝐒𝐚𝐢𝐝𝐚------------------------------\\n\");\n",
    "                printf(\"Salário atual: R$ %.2f \\n\", salario_atual);\n",
    "                printf(\"Novo salário: R$ %.2f \\n\", novo_salario);\n",
    "                printf(\"----------------------------------------------------\\n\");\n",
    "                //break;\n",
    "                opcao = 0;\n",
    "            }\n",
    "            else{\n",
    "                limpar_buffer();\n",
    "                system(LIMPAR_TELA);\n",
    "                printf(\"\\n----------------𝐄𝐫𝐫𝐨-----------------------------\\n\");\n",
    "                printf(\"Valor inválido. \\n\");\n",
    "                printf(\"------------------------------------------------\\n\");\n",
    "                printf(\"\\nAperte <ENTER> para voltar ao menu principal.\");\n",
    "                getchar();\n",
    "            }\n",
    "        }\n",
    "        else if(opcao == 0){\n",
    "            system(LIMPAR_TELA);\n",
    "            printf(\"Programa finalizado.\\n\");\n",
    "        }        \n",
    "        else {\n",
    "            limpar_buffer();\n",
    "            system(LIMPAR_TELA);\n",
    "            printf(\"\\n----------------𝐄𝐫𝐫𝐨-----------------------------\\n\");\n",
    "            printf(\"Opção inválida. \\n\");\n",
    "            printf(\"------------------------------------------------\\n\");\n",
    "            printf(\"\\nAperte <ENTER> para voltar ao menu principal.\");\n",
    "            getchar();\n",
    "        }\n",
    "    }while(opcao != 0);\n",
    "        \n",
    "    return 0;\n",
    "}    "
   ]
  },
  {
   "cell_type": "code",
   "execution_count": 38,
   "metadata": {},
   "outputs": [],
   "source": [
    "%%bash\n",
    "gcc calcular_novo_salario.c -o calcular_novo_salario"
   ]
  }
 ],
 "metadata": {
  "kernelspec": {
   "display_name": "Python 3",
   "language": "python",
   "name": "python3"
  },
  "language_info": {
   "codemirror_mode": {
    "name": "ipython",
    "version": 3
   },
   "file_extension": ".py",
   "mimetype": "text/x-python",
   "name": "python",
   "nbconvert_exporter": "python",
   "pygments_lexer": "ipython3",
   "version": "3.12.3"
  }
 },
 "nbformat": 4,
 "nbformat_minor": 2
}
