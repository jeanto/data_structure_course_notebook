{
 "cells": [
  {
   "cell_type": "markdown",
   "metadata": {},
   "source": [
    "### Structs\n",
    "\n",
    "[Aprenda Estrutura de Dados com C, Python e Jupyter Notebook](https://github.com/jeanto/data_structure_course_notebook) by [Jean Nunes](https://jeanto.github.io/jeannunes)   \n",
    "Code license: [GNU-GPL v3](https://www.gnu.org/licenses/gpl-3.0.en.html)\n",
    "\n",
    "---"
   ]
  },
  {
   "cell_type": "markdown",
   "metadata": {},
   "source": [
    "- Declare uma estrutura capaz de armazenar a matrícula e 3 notas para um dado aluno e, em seguida, calcule e armazene a média.​"
   ]
  },
  {
   "cell_type": "markdown",
   "metadata": {},
   "source": [
    "<!--![fluxograma_aumento](calcular_aumento.svg)-->\n",
    "\n",
    "![notas](notas.svg)"
   ]
  },
  {
   "cell_type": "code",
   "execution_count": null,
   "metadata": {},
   "outputs": [
    {
     "name": "stdout",
     "output_type": "stream",
     "text": [
      "Overwriting notas.c\n"
     ]
    }
   ],
   "source": [
    "%%file notas.c\n",
    "#include <stdio.h>\n",
    "#include <stdlib.h>\n",
    "\n",
    "#ifdef _WIN32\n",
    "    #define LIMPAR_TELA \"cls\"\n",
    "#else\n",
    "    #define LIMPAR_TELA \"clear\"\n",
    "#endif\n",
    "\n",
    "struct aluno {\n",
    "    int matricula;\n",
    "    float nota1, nota2, nota3;\n",
    "    float media;\n",
    "};\n",
    "\n",
    "void limpar_buffer(){\n",
    "    char c;\n",
    "    while((c = getchar()) != '\\n' && c != EOF);\n",
    "}\n",
    "\n",
    "int main() {\n",
    "    \n",
    "    int opcao = -1;\n",
    "    \n",
    "    printf(\"\\n----------------𝐎𝐛𝐣𝐞𝐭𝐢𝐯𝐨------------------------------\");\n",
    "    printf(\"O objetivo deste programa é armazenar \\na matrícula e 3 notas para um dado aluno e, \\nem seguida, calcular e armazenar a média.\\n\");\n",
    "\n",
    "    do{\n",
    "        printf(\"\\n----------------𝐄𝐧𝐭𝐫𝐚𝐝𝐚------------------------------\\n\");\n",
    "        printf(\"1 - Calcular aumento de salário. \\n\");\n",
    "        printf(\"0 - Sair. \\n\");\n",
    "        printf(\"----------------------------------------------------\\n\");\n",
    "        printf(\"Digite a opção desejada: \");\n",
    "        scanf(\"%d\", &opcao);\n",
    "        \n",
    "        if(opcao == 1){\n",
    "            struct aluno aluno1;\n",
    "            printf(\"Digite a matrícula do aluno: \");\n",
    "            int valida_matricula = scanf(\"%d\", &aluno1.matricula);\n",
    "            printf(\"Digite a primeira nota do aluno: \");\n",
    "            int valida_nota1 = scanf(\"%f\", &aluno1.nota1);\n",
    "            printf(\"Digite a segunda nota do aluno: \");\n",
    "            int valida_nota2 = scanf(\"%f\", &aluno1.nota2);\n",
    "            printf(\"Digite a terceira nota do aluno: \");\n",
    "            int valida_nota3 = scanf(\"%f\", &aluno1.nota3);\n",
    "            \n",
    "            if (valida_matricula == 1 && valida_nota1 == 1 && valida_nota2 == 1 && valida_nota3 == 1){\n",
    "                if (aluno1.matricula >= 0 && aluno1.nota1 >= 0 && aluno1.nota1 <= 10 && aluno1.nota2 >= 0 && aluno1.nota2 <= 10 && aluno1.nota3 >= 0 && aluno1.nota3 <= 10){\n",
    "                    system(LIMPAR_TELA);\n",
    "                    aluno1.media = (aluno1.nota1 + aluno1.nota2 + aluno1.nota3) / 3.0;\n",
    "                    printf(\"----------------𝐒𝐚𝐢𝐝𝐚------------------------------\\n\");\n",
    "                    printf(\"Matricula: %d\\n\", aluno1.matricula);\n",
    "                    printf(\"Nota 1: %.2f\\n\", aluno1.nota1);\n",
    "                    printf(\"Nota 2: %.2f\\n\", aluno1.nota2);\n",
    "                    printf(\"Nota 3: %.2f\\n\", aluno1.nota3);\n",
    "                    printf(\"Media: %.2f\\n\", aluno1.media);\n",
    "                    printf(\"----------------------------------------------------\\n\");\n",
    "                    opcao = 0;\n",
    "                } else {\n",
    "                    limpar_buffer();\n",
    "                    system(LIMPAR_TELA);\n",
    "                    printf(\"\\n----------------𝐄𝐫𝐫𝐨-----------------------------\\n\");\n",
    "                    printf(\"Valor inválido. As notas devem ser entre 0 e 10. \\n\");\n",
    "                    printf(\"------------------------------------------------\\n\");\n",
    "                    printf(\"\\nAperte <ENTER> para voltar ao menu principal.\");\n",
    "                    getchar();\n",
    "                }\n",
    "            } else {\n",
    "                limpar_buffer();\n",
    "                system(LIMPAR_TELA);\n",
    "                printf(\"\\n----------------𝐄𝐫𝐫𝐨-----------------------------\\n\");\n",
    "                printf(\"Valor inválido. Os valores precisam ser números.\\n\");\n",
    "                printf(\"------------------------------------------------\\n\");\n",
    "                printf(\"\\nAperte <ENTER> para voltar ao menu principal.\");\n",
    "                getchar();\n",
    "            }\n",
    "        }\n",
    "        else if(opcao == 0){\n",
    "            system(LIMPAR_TELA);\n",
    "            printf(\"Programa finalizado.\\n\");\n",
    "        }        \n",
    "        else {\n",
    "            limpar_buffer();\n",
    "            system(LIMPAR_TELA);\n",
    "            printf(\"\\n----------------𝐄𝐫𝐫𝐨-----------------------------\\n\");\n",
    "            printf(\"Opção inválida. \\n\");\n",
    "            printf(\"------------------------------------------------\\n\");\n",
    "            printf(\"\\nAperte <ENTER> para voltar ao menu principal.\");\n",
    "            getchar();\n",
    "            system(LIMPA_TELA);\n",
    "        }\n",
    "    } while(opcao != 0);\n",
    "\n",
    "    return 0;\n",
    "}"
   ]
  },
  {
   "cell_type": "code",
   "execution_count": 12,
   "metadata": {},
   "outputs": [],
   "source": [
    "%%bash\n",
    "gcc notas.c -o notas"
   ]
  }
 ],
 "metadata": {
  "kernelspec": {
   "display_name": "Python 3",
   "language": "python",
   "name": "python3"
  },
  "language_info": {
   "codemirror_mode": {
    "name": "ipython",
    "version": 3
   },
   "file_extension": ".py",
   "mimetype": "text/x-python",
   "name": "python",
   "nbconvert_exporter": "python",
   "pygments_lexer": "ipython3",
   "version": "3.12.3"
  }
 },
 "nbformat": 4,
 "nbformat_minor": 2
}
