{
 "cells": [
  {
   "cell_type": "markdown",
   "metadata": {},
   "source": [
    "## Functions\n",
    "\n",
    "[Aprenda Estrutura de Dados com C, Python e Jupyter Notebook](https://github.com/jeanto/data_structure_course_notebook) by [Jean Nunes](https://jeanto.github.io/jeannunes)   \n",
    "Code license: [GNU-GPL v3](https://www.gnu.org/licenses/gpl-3.0.en.html)\n",
    "\n",
    "---"
   ]
  },
  {
   "cell_type": "markdown",
   "metadata": {},
   "source": [
    "### 1. Usando funções em C\n",
    "\n",
    "#### Modularizando o código"
   ]
  },
  {
   "cell_type": "markdown",
   "metadata": {},
   "source": [
    "Em C, um arquivo `.h` (ou arquivo de cabeçalho) é usado para declarar funções, macros, constantes e tipos de dados que podem ser compartilhados entre vários arquivos de código-fonte (`.c`). Ele serve como uma interface entre diferentes partes de um programa, permitindo que o código seja modular e reutilizável.\n",
    "\n",
    "Aqui estão algumas das principais utilidades de um arquivo `.h`:\n",
    "\n",
    "1. **Declaração de Funções**: Permite que funções definidas em um arquivo `.c` sejam usadas em outros arquivos `.c`.\n",
    "2. **Definição de Macros**: Permite a definição de macros que podem ser usadas em vários arquivos.\n",
    "3. **Declaração de Tipos de Dados**: Permite a definição de novos tipos de dados que podem ser usados em vários arquivos.\n",
    "4. **Inclusão de Bibliotecas**: Permite a inclusão de outras bibliotecas e arquivos de cabeçalho.\n",
    "\n",
    "Exemplo de um arquivo de cabeçalho (`exemplo.h`):\n",
    "\n",
    "```c\n",
    "// exemplo.h\n",
    "#ifndef EXEMPLO_H\n",
    "#define EXEMPLO_H\n",
    "\n",
    "// Declaração de uma função\n",
    "void minhaFuncao(int a, int b);\n",
    "\n",
    "// Definição de uma macro\n",
    "#define PI 3.14159\n",
    "\n",
    "// Declaração de um tipo de dado\n",
    "typedef struct {\n",
    "    int x;\n",
    "    int y;\n",
    "} Ponto;\n",
    "\n",
    "#endif // EXEMPLO_H\n",
    "```\n",
    "\n",
    "Exemplo de um arquivo de código-fonte que usa o arquivo de cabeçalho (`main.c`):\n",
    "\n",
    "```c\n",
    "// main.c\n",
    "#include <stdio.h>\n",
    "#include \"exemplo.h\"\n",
    "\n",
    "void minhaFuncao(int a, int b) {\n",
    "    printf(\"Soma: %d\\n\", a + b);\n",
    "}\n",
    "\n",
    "int main() {\n",
    "    Ponto p = {1, 2};\n",
    "    printf(\"Ponto: (%d, %d)\\n\", p.x, p.y);\n",
    "    minhaFuncao(3, 4);\n",
    "    return 0;\n",
    "}\n",
    "```\n",
    "\n",
    "Neste exemplo:\n",
    "- `exemplo.h` declara a função `minhaFuncao`, a macro `PI` e o tipo de dado `Ponto`.\n",
    "- `main.c` inclui `exemplo.h` e define a função `minhaFuncao`, além de usar o tipo `Ponto` e a função `minhaFuncao`."
   ]
  },
  {
   "cell_type": "markdown",
   "metadata": {},
   "source": [
    "A diretiva `#ifndef` em um arquivo `.h` é usada para evitar a inclusão múltipla do mesmo arquivo de cabeçalho. Isso é conhecido como \"include guard\" ou \"header guard\". A inclusão múltipla pode causar erros de compilação devido a redefinições de funções, macros ou tipos de dados.\n",
    "\n",
    "A estrutura básica de um include guard é a seguinte:\n",
    "\n",
    "```c\n",
    "#ifndef NOME_DO_HEADER\n",
    "#define NOME_DO_HEADER\n",
    "\n",
    "// Declarações e definições do arquivo de cabeçalho\n",
    "\n",
    "#endif // NOME_DO_HEADER\n",
    "```\n",
    "\n",
    "Neste exemplo:\n",
    "- `#ifndef EXEMPLO_H` verifica se `EXEMPLO_H` não foi definido anteriormente.\n",
    "- `#define EXEMPLO_H` define `EXEMPLO_H` para que, se o arquivo for incluído novamente, a parte entre `#ifndef` e `#endif` seja ignorada.\n",
    "- `#endif` marca o fim do include guard.\n",
    "\n",
    "Isso garante que o conteúdo do arquivo de cabeçalho seja incluído apenas uma vez, mesmo que o arquivo seja incluído múltiplas vezes em diferentes partes do código."
   ]
  },
  {
   "cell_type": "markdown",
   "metadata": {},
   "source": [
    "#### Exemplo: Controle de Notas"
   ]
  },
  {
   "cell_type": "markdown",
   "metadata": {},
   "source": [
    "- Declare uma estrutura capaz de armazenar a matrícula e 3 notas para um dado aluno e, em seguida, calcule e armazene a média.​"
   ]
  },
  {
   "cell_type": "markdown",
   "metadata": {},
   "source": [
    "<!--![fluxograma_aumento](calcular_aumento.svg)-->\n",
    "\n",
    "![notas](../01-structs/notas.svg)"
   ]
  },
  {
   "cell_type": "markdown",
   "metadata": {},
   "source": [
    "#### Arquivo de cabeçalho"
   ]
  },
  {
   "cell_type": "code",
   "execution_count": null,
   "metadata": {},
   "outputs": [
    {
     "name": "stdout",
     "output_type": "stream",
     "text": [
      "Writing utils.h\n"
     ]
    }
   ],
   "source": [
    "%%file utils.h\n",
    "#ifndef UTILS_H\n",
    "#define UTILS_H\n",
    "\n",
    "#include <stdio.h>\n",
    "#include <stdlib.h>\n",
    "#include <string.h>\n",
    "\n",
    "#ifdef _WIN32\n",
    "    #define LIMPAR_TELA \"cls\"\n",
    "#else\n",
    "    #define LIMPAR_TELA \"clear\"\n",
    "#endif\n",
    "\n",
    "struct aluno {\n",
    "  int matricula;\n",
    "  floatendif nota1, nota2, nota3;\n",
    "  float media;\n",
    "};\n",
    "\n",
    "void limpar_buffer();\n",
    "void msg_erro(char *msg);\n",
    "\n",
    "#endif // UTILS_H"
   ]
  },
  {
   "cell_type": "markdown",
   "metadata": {},
   "source": [
    "#### Arquivo de funções"
   ]
  },
  {
   "cell_type": "code",
   "execution_count": 2,
   "metadata": {},
   "outputs": [
    {
     "name": "stdout",
     "output_type": "stream",
     "text": [
      "Writing utils.c\n"
     ]
    }
   ],
   "source": [
    "%%file utils.c\n",
    "#include \"utils.h\"\n",
    "\n",
    "void limpar_buffer(){\n",
    "    char c;\n",
    "    while((c = getchar()) != '\\n' && c != EOF);\n",
    "}\n",
    "\n",
    "void msg_erro(char *msg){\n",
    "    limpar_buffer();\n",
    "    system(LIMPAR_TELA);\n",
    "    printf(\"\\n----------------Erro------------------------------\\n\");\n",
    "    printf(\"%s\", msg);\n",
    "    printf(\"----------------------------------------------------\\n\");\n",
    "    printf(\"\\nAperte <ENTER> para voltar ao menu principal.\");\n",
    "    getchar();\n",
    "}"
   ]
  },
  {
   "cell_type": "markdown",
   "metadata": {},
   "source": [
    "#### Arquivo principal"
   ]
  },
  {
   "cell_type": "code",
   "execution_count": 3,
   "metadata": {},
   "outputs": [
    {
     "name": "stdout",
     "output_type": "stream",
     "text": [
      "Writing main.c\n"
     ]
    }
   ],
   "source": [
    "%%file main.c\n",
    "#include \"utils.c\"\n",
    "\n",
    "int main() {\n",
    "    \n",
    "    int opcao = -1;\n",
    "    \n",
    "    printf(\"\\n----------------𝐎𝐛𝐣𝐞𝐭𝐢𝐯𝐨------------------------------\\n\");\n",
    "    printf(\"O objetivo deste programa é armazenar \\na matrícula e 3 notas para um dado aluno e, \\nem seguida, calcular e armazenar a média.\\n\");\n",
    "\n",
    "    do{\n",
    "        printf(\"\\n----------------𝐄𝐧𝐭𝐫𝐚𝐝𝐚------------------------------\\n\");\n",
    "        printf(\"1 - Calcular aumento de salário. \\n\");\n",
    "        printf(\"0 - Sair. \\n\");\n",
    "        printf(\"----------------------------------------------------\\n\");\n",
    "        printf(\"Digite a opção desejada: \");\n",
    "        scanf(\"%d\", &opcao);\n",
    "        \n",
    "        if(opcao == 1){\n",
    "            struct aluno aluno1;\n",
    "            printf(\"Digite a matrícula do aluno: \");\n",
    "            int valida_matricula = scanf(\"%d\", &aluno1.matricula);\n",
    "            printf(\"Digite a primeira nota do aluno: \");\n",
    "            int valida_nota1 = scanf(\"%f\", &aluno1.nota1);\n",
    "            printf(\"Digite a segunda nota do aluno: \");\n",
    "            int valida_nota2 = scanf(\"%f\", &aluno1.nota2);\n",
    "            printf(\"Digite a terceira nota do aluno: \");\n",
    "            int valida_nota3 = scanf(\"%f\", &aluno1.nota3);\n",
    "            \n",
    "            if (valida_matricula == 1 && valida_nota1 == 1 && valida_nota2 == 1 && valida_nota3 == 1){\n",
    "                if (aluno1.matricula >= 0 && aluno1.nota1 >= 0 && aluno1.nota1 <= 10 && aluno1.nota2 >= 0 && aluno1.nota2 <= 10 && aluno1.nota3 >= 0 && aluno1.nota3 <= 10){\n",
    "                    system(LIMPAR_TELA);\n",
    "\n",
    "                    // Criar função para calcular a média do aluno usando passagem por valor e por referência\n",
    "                    aluno1.media = (aluno1.nota1 + aluno1.nota2 + aluno1.nota3) / 3.0;\n",
    "\n",
    "                    // Criar função para imprimir os dados do aluno (relatório)\t\n",
    "                    printf(\"----------------𝐒𝐚𝐢𝐝𝐚------------------------------\\n\");\n",
    "                    printf(\"Matricula: \\t %d\\n\", aluno1.matricula);\n",
    "                    printf(\"Nota 1: \\t %.2f\\n\", aluno1.nota1);\n",
    "                    printf(\"Nota 2: \\t %.2f\\n\", aluno1.nota2);\n",
    "                    printf(\"Nota 3: \\t %.2f\\n\", aluno1.nota3);\n",
    "                    printf(\"Media:  \\t %.2f\\n\", aluno1.media);\n",
    "                    printf(\"----------------------------------------------------\\n\");\n",
    "                    opcao = 0;\n",
    "                } else {\n",
    "                    msg_erro(\"Valor inválido. As notas devem ser entre 0 e 10. \\n\");\n",
    "                }\n",
    "            } else {\n",
    "                msg_erro(\"Valor inválido. Os valores precisam ser números.\\n\");\n",
    "            }\n",
    "        }\n",
    "        else if(opcao == 0){\n",
    "            system(LIMPAR_TELA);\n",
    "            printf(\"Programa finalizado.\\n\");\n",
    "        }        \n",
    "        else {\n",
    "            msg_erro(\"Opção inválida. \\n\");\n",
    "        }\n",
    "    } while(opcao != 0);\n",
    "\n",
    "    return 0;\n",
    "}"
   ]
  },
  {
   "cell_type": "code",
   "execution_count": null,
   "metadata": {},
   "outputs": [],
   "source": [
    "%%bash\n",
    "gcc -o programa main.c utils.c"
   ]
  },
  {
   "cell_type": "markdown",
   "metadata": {},
   "source": [
    "### 2. Passagem por valor e por referência"
   ]
  },
  {
   "cell_type": "markdown",
   "metadata": {},
   "source": [
    "Em C, a diferença entre passagem por valor e passagem por referência está na forma como os argumentos são passados para as funções.\n",
    "\n",
    "#### Passagem por Valor\n",
    "Na passagem por valor, uma `cópia do valor` do argumento é passada para a função. Isso significa que qualquer modificação feita ao parâmetro dentro da função não afeta o argumento original.\n",
    "\n",
    "Exemplo de passagem por valor:\n",
    "\n",
    "```c\n",
    "#include <stdio.h>\n",
    "\n",
    "void incrementar(int x) {\n",
    "    x = x + 1;\n",
    "    printf(\"Dentro da função: %d\\n\", x);\n",
    "}\n",
    "\n",
    "int main() {\n",
    "    int a = 5;\n",
    "    incrementar(a);\n",
    "    printf(\"Fora da função: %d\\n\", a);\n",
    "    return 0;\n",
    "}\n",
    "```\n",
    "\n",
    "Saída:\n",
    "```\n",
    "Dentro da função: 6\n",
    "Fora da função: 5\n",
    "```\n",
    "\n",
    "Neste exemplo, o valor de `a` não é alterado fora da função `incrementar` porque `x` é uma cópia de `a`.\n",
    "\n",
    "#### Passagem por Referência\n",
    "Na passagem por referência, `um ponteiro` para o argumento é passado para a função. Isso significa que a função pode modificar o valor do argumento original.\n",
    "\n",
    "Exemplo de passagem por referência:\n",
    "\n",
    "```c\n",
    "#include <stdio.h>\n",
    "\n",
    "void incrementar(int *x) {\n",
    "    *x = *x + 1;\n",
    "    printf(\"Dentro da função: %d\\n\", *x);\n",
    "}\n",
    "\n",
    "int main() {\n",
    "    int a = 5;\n",
    "    incrementar(&a);\n",
    "    printf(\"Fora da função: %d\\n\", a);\n",
    "    return 0;\n",
    "}\n",
    "```\n",
    "\n",
    "Saída:\n",
    "```\n",
    "Dentro da função: 6\n",
    "Fora da função: 6\n",
    "```\n",
    "\n",
    "Neste exemplo, o valor de `a` é alterado fora da função `incrementar` porque `x` é um ponteiro para `a` e a função modifica o valor apontado por `x`.\n",
    "\n",
    "### Resumo\n",
    "- **Passagem por Valor**: Passa uma cópia do valor. Modificações dentro da função não afetam o valor original.\n",
    "- **Passagem por Referência**: Passa um ponteiro para o valor. Modificações dentro da função afetam o valor original."
   ]
  },
  {
   "cell_type": "markdown",
   "metadata": {},
   "source": [
    "### 3. Atividade prática:\n",
    "\n",
    "#### I. Considerando o programa de controle de notas, implemente os requisitos abaixo:\n",
    "\n",
    "- Criar uma função para imprimir relatório\n",
    "- Criar função para calcular a média usando `passagem por valor` tendo as notas como parâmetro da função\n",
    "- Criar função para calcular a média usando `passagem por valor` tendo a struct como parâmetro da função\n",
    "- Criar função para calcular a média usando `passagem por referência` tendo a média como parâmetro da função\n",
    "- Criar função para calcular a média usando `passagem por referência` tendo a struct como parâmetro da função"
   ]
  }
],
 "metadata": {
  "kernelspec": {
   "display_name": "Python 3",
   "language": "python",
   "name": "python3"
  },
  "language_info": {
   "codemirror_mode": {
    "name": "ipython",
    "version": 3
   },
   "file_extension": ".py",
   "mimetype": "text/x-python",
   "name": "python",
   "nbconvert_exporter": "python",
   "pygments_lexer": "ipython3",
   "version": "3.12.3"
  }
 },
 "nbformat": 4,
 "nbformat_minor": 2
}
